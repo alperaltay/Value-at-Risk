{
 "cells": [
  {
   "cell_type": "code",
   "execution_count": 12,
   "id": "9bf9d5ea-efd4-47fc-b3ef-8aa1ab74e6e4",
   "metadata": {},
   "outputs": [
    {
     "name": "stdout",
     "output_type": "stream",
     "text": [
      "Expected Portfolio Return:        8738.25\n",
      "Value at Risk 95th CI:        23081.86\n",
      "Conditional Value at Risk 95th CI:        37615.51\n"
     ]
    }
   ],
   "source": [
    "import pandas as pd\n",
    "import numpy as np\n",
    "import datetime as dt\n",
    "from pandas_datareader import data as pdr\n",
    "\n",
    "def getData(stocks, start, end):\n",
    "    stockData = pdr.get_data_yahoo(stocks, start=start, end=end)\n",
    "    stockData = stockData['Close']\n",
    "    returns= stockData.pct_change()\n",
    "    meanReturns = returns.mean()\n",
    "    covMatrix = returns.cov()\n",
    "    return returns, meanReturns, covMatrix\n",
    "\n",
    "def portfolioPerformance(weights, meanReturns, covMatrix, Time):\n",
    "    returns = np.sum(meanReturns*weights)*Time\n",
    "    std = np.sqrt(np.dot(weights.T, np.dot(covMatrix, weights)))*np.sqrt(Time)\n",
    "    return returns, std\n",
    "\n",
    "stocklist = ['CBA', 'BHP', 'TLS', 'NAB', 'WBC', 'STO']\n",
    "stocks = [stock+'.AX' for stock in stocklist]\n",
    "endDate = dt.datetime.now()\n",
    "startDate = endDate - dt.timedelta(days= 800)\n",
    "\n",
    "returns, meanReturns, covMatrix = getData(stocks, start=startDate, end=endDate)\n",
    "returns = returns.dropna()\n",
    "\n",
    "weights = np.random.random(len(returns.columns))\n",
    "weights /= np.sum(weights)\n",
    "\n",
    "returns['portfolio'] = returns.dot(weights)\n",
    "#print(returns)\n",
    "\n",
    "def historicalVaR(returns, alpha=5):     #alpha confidence interval\n",
    "    ''' read in a pnadas dataframe of returns / a pandas series of returns'''\n",
    "    ''' output the percentile of the dist at the given alpha conf interval'''\n",
    "    if isinstance(returns, pd.Series):\n",
    "        return np.percentile(returns, alpha)\n",
    "    elif isinstance(returns, pd.DataFrame):\n",
    "        return returns.agg(historicalVaR, alpha=5)\n",
    "    else:\n",
    "        raise TypeError(\"expected returns to be dataframe or series\")\n",
    "        \n",
    "\n",
    "    \n",
    "def historicalCVaR(returns, alpha=5):\n",
    "    if isinstance(returns, pd.Series):\n",
    "        belowVaR = returns <= historicalVaR(returns, alpha=alpha)\n",
    "        return returns[belowVaR].mean()\n",
    "    elif isinstance(returns, pd.DataFrame):\n",
    "        return returns.agg(historicalCVaR, alpha=5)\n",
    "    else:\n",
    "        raise TypeError(\"expected returns to be dataframe or series\")\n",
    "\n",
    "\n",
    "Time = 100\n",
    "\n",
    "VaR = -historicalVaR(returns['portfolio'], alpha=5)*np.sqrt(Time)\n",
    "CVaR = -historicalCVaR(returns['portfolio'], alpha=5)*np.sqrt(Time)\n",
    "pReturn, pStd = portfolioPerformance(weights, meanReturns, covMatrix, Time)\n",
    "\n",
    "InitialInvestment = 100000\n",
    "print(\"Expected Portfolio Return:       \", round(InitialInvestment*pReturn,2))\n",
    "print(\"Value at Risk 95th CI:       \", round(InitialInvestment*VaR,2))\n",
    "print(\"Conditional Value at Risk 95th CI:       \", round(InitialInvestment*CVaR,2))\n",
    "\n",
    "\n"
   ]
  },
  {
   "cell_type": "code",
   "execution_count": null,
   "id": "acdda361-3811-4615-8512-f87131b499a1",
   "metadata": {},
   "outputs": [],
   "source": []
  }
 ],
 "metadata": {
  "kernelspec": {
   "display_name": "Python 3 (ipykernel)",
   "language": "python",
   "name": "python3"
  },
  "language_info": {
   "codemirror_mode": {
    "name": "ipython",
    "version": 3
   },
   "file_extension": ".py",
   "mimetype": "text/x-python",
   "name": "python",
   "nbconvert_exporter": "python",
   "pygments_lexer": "ipython3",
   "version": "3.9.7"
  }
 },
 "nbformat": 4,
 "nbformat_minor": 5
}
